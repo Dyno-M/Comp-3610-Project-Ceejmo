{
 "cells": [
  {
   "cell_type": "markdown",
   "metadata": {},
   "source": [
    "# COMP 3610 - PROJECT CEEJMO - DEMONSTRATION\n",
    "\n",
    "| UWI ID   | NAME    |\n",
    "| -------- | ------- |\n",
    "| `816031687` |  `RAUL ALI`   |\n",
    "| `816030501` |  `JOSIAH JOEL`   |\n",
    "| `816030814` |  `DAYANAND MOONOO`   |\n",
    "| `816031173` |  `ZACHARY RAMPERSAD`   |\n",
    "\n",
    "NOTES:\n",
    "- This is a Multi-class Classification problem involving Natural Language Processing.\n",
    "- In this notebook, we demonstrate the classifier models we have built:\n",
    "    - we take a random instance from our data\n",
    "    - process the input and vectorize it using the trained tfidf vectorizer.\n",
    "    - generate probabilities of being in each class using the trained classification model,"
   ]
  },
  {
   "cell_type": "code",
   "execution_count": 1,
   "metadata": {},
   "outputs": [],
   "source": [
    "# Dataframe / Visualization Imports\n",
    "import pandas as pd\n",
    "import numpy as np\n",
    "import random\n",
    "\n",
    "# Text Cleaning Imports\n",
    "import re\n",
    "#!pip install emoji\n",
    "import emoji\n",
    "from bs4 import BeautifulSoup\n",
    "import string\n",
    "from string import punctuation\n",
    "# from itertools import chain\n",
    "\n",
    "# Model Imports\n",
    "from joblib import load"
   ]
  },
  {
   "cell_type": "code",
   "execution_count": 2,
   "metadata": {},
   "outputs": [
    {
     "data": {
      "text/html": [
       "<div>\n",
       "<style scoped>\n",
       "    .dataframe tbody tr th:only-of-type {\n",
       "        vertical-align: middle;\n",
       "    }\n",
       "\n",
       "    .dataframe tbody tr th {\n",
       "        vertical-align: top;\n",
       "    }\n",
       "\n",
       "    .dataframe thead th {\n",
       "        text-align: right;\n",
       "    }\n",
       "</style>\n",
       "<table border=\"1\" class=\"dataframe\">\n",
       "  <thead>\n",
       "    <tr style=\"text-align: right;\">\n",
       "      <th></th>\n",
       "      <th>text</th>\n",
       "      <th>label</th>\n",
       "    </tr>\n",
       "  </thead>\n",
       "  <tbody>\n",
       "    <tr>\n",
       "      <th>416804</th>\n",
       "      <td>i feel like telling these horny devils to find...</td>\n",
       "      <td>2</td>\n",
       "    </tr>\n",
       "    <tr>\n",
       "      <th>416805</th>\n",
       "      <td>i began to realize that when i was feeling agi...</td>\n",
       "      <td>3</td>\n",
       "    </tr>\n",
       "    <tr>\n",
       "      <th>416806</th>\n",
       "      <td>i feel very curious be why previous early dawn...</td>\n",
       "      <td>5</td>\n",
       "    </tr>\n",
       "    <tr>\n",
       "      <th>416807</th>\n",
       "      <td>i feel that becuase of the tyranical nature of...</td>\n",
       "      <td>3</td>\n",
       "    </tr>\n",
       "    <tr>\n",
       "      <th>416808</th>\n",
       "      <td>i think that after i had spent some time inves...</td>\n",
       "      <td>5</td>\n",
       "    </tr>\n",
       "  </tbody>\n",
       "</table>\n",
       "</div>"
      ],
      "text/plain": [
       "                                                     text  label\n",
       "416804  i feel like telling these horny devils to find...      2\n",
       "416805  i began to realize that when i was feeling agi...      3\n",
       "416806  i feel very curious be why previous early dawn...      5\n",
       "416807  i feel that becuase of the tyranical nature of...      3\n",
       "416808  i think that after i had spent some time inves...      5"
      ]
     },
     "execution_count": 2,
     "metadata": {},
     "output_type": "execute_result"
    }
   ],
   "source": [
    "# Initialize seed for reproducibility \n",
    "seed_value = 42\n",
    "\n",
    "# Import data into a data frame\n",
    "df=pd.read_csv(\"text.csv\", index_col=0)\n",
    "# df = pd.read_csv(\"https://drive.google.com/uc?export=download&id=1mQryd71hRYMLl3vzyCS9deedDQak_1LG\", index_col=0)\n",
    "\n",
    "# Print the last 5 rows to get a general idea of the dataset\n",
    "df.tail()"
   ]
  },
  {
   "cell_type": "markdown",
   "metadata": {},
   "source": [
    "For this demonstration we use our trained `Random Forest Classifier`."
   ]
  },
  {
   "cell_type": "code",
   "execution_count": 24,
   "metadata": {},
   "outputs": [],
   "source": [
    "# Load the saved models\n",
    "loaded_model = load('randf_tfidf.joblib')\n",
    "loaded_vectr = load('tfidf_for_randf.joblib')"
   ]
  },
  {
   "cell_type": "markdown",
   "metadata": {},
   "source": [
    "## DATA PRE-PROCESSING / CLEANING"
   ]
  },
  {
   "cell_type": "markdown",
   "metadata": {},
   "source": [
    "We will perform the following steps to refine our corpus of text:\n",
    "- Removing links from the corpus\n",
    "- Removing punctuation\n",
    "- Removing HTML tags\n",
    "- Removing Emojis\n",
    "- Covert text to lowercase only\n",
    "- Removing additional white spaces"
   ]
  },
  {
   "cell_type": "code",
   "execution_count": 4,
   "metadata": {},
   "outputs": [],
   "source": [
    "# Function to remove specified words from a text\n",
    "def remove_word_from_string(word, string):\n",
    "\n",
    "    # Construct a regular expression pattern to match the word\n",
    "    pattern = r'\\b{}\\b'.format(re.escape(word))\n",
    "\n",
    "    # Use re.sub() to replace the matched word with an empty string\n",
    "    return re.sub(pattern, '', string)"
   ]
  },
  {
   "cell_type": "code",
   "execution_count": 5,
   "metadata": {},
   "outputs": [],
   "source": [
    "# Function to preprocess text\n",
    "def preprocess_input(text,loaded_vectr):\n",
    "    \n",
    "    text = ' '.join(text.split())   # Remove additional white spaces\n",
    "    text = emoji.demojize(text, delimiters=(\"\", \"\")) # Replace emojis with word representation\n",
    "    text = re.sub(r'http\\S+', '', text) # Remove links\n",
    "    text = text.translate(str.maketrans('', '', punctuation)) # Remove punctuation\n",
    "    text = BeautifulSoup(text, \"html.parser\").get_text() # Remove HTML tags\n",
    "    text.lower() # Convert all text to lowercase\n",
    "    \n",
    "    words_to_remove = ['feeling', 'feel', 'like', 'im'] # Remove common words\n",
    "    for word in words_to_remove:\n",
    "            text = remove_word_from_string(word, text)\n",
    "    \n",
    "    text_trans = loaded_vectr.transform([text])\n",
    "\n",
    "    return text_trans"
   ]
  },
  {
   "cell_type": "code",
   "execution_count": 6,
   "metadata": {},
   "outputs": [],
   "source": [
    "# Function to generate the probabilities \n",
    "def generate_probs(text, loaded_model):\n",
    "    # Obtain the probabilities for each class\n",
    "    pred_probs = loaded_model.predict_proba(text)\n",
    "\n",
    "    labels = ['sadness', 'joy', 'love', 'anger', 'fear', 'surprise']\n",
    "\n",
    "    # Create a dictionary to store the probabilities with labels\n",
    "    probs_dict = {}\n",
    "\n",
    "    # Iterate over the probabilities array and labels simultaneously\n",
    "    for label, prob in zip(labels, pred_probs[0]):\n",
    "        probs_dict[label] = round(prob*100,5)\n",
    "\n",
    "    print('\\n',probs_dict)\n",
    "\n",
    "    return probs_dict"
   ]
  },
  {
   "cell_type": "markdown",
   "metadata": {},
   "source": [
    "## CLASSIFICATION"
   ]
  },
  {
   "cell_type": "markdown",
   "metadata": {},
   "source": [
    "Take a random text sample from the data-frame"
   ]
  },
  {
   "cell_type": "code",
   "execution_count": 28,
   "metadata": {},
   "outputs": [
    {
     "name": "stdout",
     "output_type": "stream",
     "text": [
      "(175300). Class 3 : i know i am a sick fuck but i am not going to lie about how i am feeling because it is my truth and sometimes my truth is rude and mean and not full of love\n",
      "\n",
      " {'sadness': 5.39561, 'joy': 6.30013, 'love': 6.01527, 'anger': 75.62315, 'fear': 4.8754, 'surprise': 1.79044}\n"
     ]
    }
   ],
   "source": [
    "# Take a random instance from df\n",
    "r_num = random.randint(0, len(df))\n",
    "# r_num = 209283\n",
    "X_inst = df.at[r_num, 'text']  \n",
    "y_inst = df.at[r_num, 'label']  \n",
    "\n",
    "print(f'({r_num}). Class {y_inst} : {X_inst}')\n",
    "\n",
    "X_inst = preprocess_input(X_inst,loaded_vectr)\n",
    "\n",
    "probs = generate_probs(X_inst,loaded_model)"
   ]
  }
 ],
 "metadata": {
  "kernelspec": {
   "display_name": "base",
   "language": "python",
   "name": "python3"
  },
  "language_info": {
   "codemirror_mode": {
    "name": "ipython",
    "version": 3
   },
   "file_extension": ".py",
   "mimetype": "text/x-python",
   "name": "python",
   "nbconvert_exporter": "python",
   "pygments_lexer": "ipython3",
   "version": "3.11.5"
  }
 },
 "nbformat": 4,
 "nbformat_minor": 2
}
